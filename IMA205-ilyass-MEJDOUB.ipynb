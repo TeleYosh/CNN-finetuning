{
 "cells": [
  {
   "cell_type": "markdown",
   "id": "b308caa8",
   "metadata": {},
   "source": [
    "IMA 205 Challenge Kaggle: Ilyass MEJDOUB (M6Enjoyer)\n",
    "---"
   ]
  },
  {
   "cell_type": "code",
   "execution_count": 1,
   "id": "1017fe1f",
   "metadata": {},
   "outputs": [
    {
     "name": "stderr",
     "output_type": "stream",
     "text": [
      "2024-05-05 14:41:10.326397: E external/local_xla/xla/stream_executor/cuda/cuda_dnn.cc:9261] Unable to register cuDNN factory: Attempting to register factory for plugin cuDNN when one has already been registered\n",
      "2024-05-05 14:41:10.326443: E external/local_xla/xla/stream_executor/cuda/cuda_fft.cc:607] Unable to register cuFFT factory: Attempting to register factory for plugin cuFFT when one has already been registered\n",
      "2024-05-05 14:41:10.449979: E external/local_xla/xla/stream_executor/cuda/cuda_blas.cc:1515] Unable to register cuBLAS factory: Attempting to register factory for plugin cuBLAS when one has already been registered\n",
      "2024-05-05 14:41:10.614993: I tensorflow/core/platform/cpu_feature_guard.cc:182] This TensorFlow binary is optimized to use available CPU instructions in performance-critical operations.\n",
      "To enable the following instructions: AVX2 FMA, in other operations, rebuild TensorFlow with the appropriate compiler flags.\n",
      "2024-05-05 14:41:12.935673: W tensorflow/compiler/tf2tensorrt/utils/py_utils.cc:38] TF-TRT Warning: Could not find TensorRT\n",
      "/usr/lib/python3/dist-packages/scipy/__init__.py:146: UserWarning: A NumPy version >=1.17.3 and <1.25.0 is required for this version of SciPy (detected version 1.26.4\n",
      "  warnings.warn(f\"A NumPy version >={np_minversion} and <{np_maxversion}\"\n"
     ]
    },
    {
     "name": "stdout",
     "output_type": "stream",
     "text": [
      "3 Physical GPUs, 1 Logical GPU\n"
     ]
    },
    {
     "name": "stderr",
     "output_type": "stream",
     "text": [
      "2024-05-05 14:41:16.802831: I tensorflow/core/common_runtime/gpu/gpu_device.cc:1929] Created device /job:localhost/replica:0/task:0/device:GPU:0 with 29557 MB memory:  -> device: 1, name: Tesla V100S-PCIE-32GB, pci bus id: 0000:81:00.0, compute capability: 7.0\n"
     ]
    }
   ],
   "source": [
    "import tensorflow as tf\n",
    "gpus = tf.config.list_physical_devices('GPU')\n",
    "if gpus:\n",
    "  # Restrict TensorFlow to only use the first GPU\n",
    "  try:\n",
    "    tf.config.set_visible_devices(gpus[1], 'GPU')\n",
    "    logical_gpus = tf.config.list_logical_devices('GPU')\n",
    "    print(len(gpus), \"Physical GPUs,\", len(logical_gpus), \"Logical GPU\")\n",
    "  except RuntimeError as e:\n",
    "    # Visible devices must be set before GPUs have been initialized\n",
    "    print(e)\n"
   ]
  },
  {
   "cell_type": "markdown",
   "id": "158daa04",
   "metadata": {},
   "source": [
    "Preprocessing\n",
    "---"
   ]
  },
  {
   "cell_type": "code",
   "execution_count": 3,
   "id": "dd7a28a8",
   "metadata": {},
   "outputs": [
    {
     "name": "stdout",
     "output_type": "stream",
     "text": [
      "<class 'str'>\n",
      "                     ID CLASS\n",
      "0      ISIC_0000000.jpg     2\n",
      "1      ISIC_0000001.jpg     2\n",
      "2      ISIC_0000002.jpg     1\n",
      "3      ISIC_0000003.jpg     2\n",
      "4      ISIC_0000004.jpg     1\n",
      "...                 ...   ...\n",
      "18993  ISIC_0073241.jpg     1\n",
      "18994  ISIC_0073244.jpg     2\n",
      "18995  ISIC_0073245.jpg     2\n",
      "18996  ISIC_0073248.jpg     5\n",
      "18997  ISIC_0073251.jpg     2\n",
      "\n",
      "[18998 rows x 2 columns]\n"
     ]
    }
   ],
   "source": [
    "from keras.models import Sequential\n",
    "from tensorflow.keras.preprocessing.image import ImageDataGenerator\n",
    "from keras.layers import Dense, Activation, Flatten, Dropout, BatchNormalization\n",
    "from keras.layers import Conv2D, MaxPooling2D\n",
    "from keras import regularizers, optimizers\n",
    "import pandas as pd\n",
    "import numpy as np\n",
    "\n",
    "\n",
    "def append_ext(fn):\n",
    "    return fn+\".jpg\"\n",
    "    \n",
    "traindf=pd.read_csv(\"metadataTrain.csv\",dtype=str)    \n",
    "traindf[\"ID\"]=traindf[\"ID\"].apply(append_ext)\n",
    "labels = pd.DataFrame(traindf[['ID', 'CLASS']])\n",
    "labels = labels.sort_values(by='ID').reset_index(drop=True)\n",
    "\n",
    "datagen=ImageDataGenerator(zoom_range=0.1,\n",
    "                           rotation_range=350,\n",
    "                           validation_split=0.15)\n"
   ]
  },
  {
   "cell_type": "code",
   "execution_count": 4,
   "id": "f961c8b9",
   "metadata": {},
   "outputs": [
    {
     "name": "stdout",
     "output_type": "stream",
     "text": [
      "Found 16149 validated image filenames belonging to 8 classes.\n",
      "Found 2849 validated image filenames belonging to 8 classes.\n"
     ]
    }
   ],
   "source": [
    "train_generator=datagen.flow_from_dataframe(\n",
    "    dataframe=labels,\n",
    "    directory=\"Train_all/Train\",\n",
    "    x_col=\"ID\",\n",
    "    y_col=\"CLASS\",\n",
    "    subset = 'training',\n",
    "    batch_size=16,\n",
    "    seed=42,\n",
    "    shuffle=True,\n",
    "    class_mode=\"categorical\",\n",
    "    target_size=(300,300))\n",
    "\n",
    "valid_generator=datagen.flow_from_dataframe(\n",
    "    dataframe=labels,\n",
    "    directory=\"Train_all/Train\",\n",
    "    x_col=\"ID\",\n",
    "    y_col=\"CLASS\",\n",
    "    subset=\"validation\",\n",
    "    batch_size=16,\n",
    "    seed=42,\n",
    "    shuffle=True,\n",
    "    class_mode=\"categorical\",\n",
    "    target_size=(300,300))\n",
    "\n",
    "num_classes = 8"
   ]
  },
  {
   "cell_type": "code",
   "execution_count": 5,
   "id": "2a58967c",
   "metadata": {},
   "outputs": [
    {
     "name": "stdout",
     "output_type": "stream",
     "text": [
      "{0: 0.7006, 1: 0.2459, 2: 0.9526, 3: 3.648, 4: 1.2067, 5: 13.1937, 6: 12.5655, 7: 5.0422}\n"
     ]
    }
   ],
   "source": [
    "import tensorflow as tf\n",
    "from sklearn.model_selection import train_test_split\n",
    "from tensorflow.keras.preprocessing.image import load_img, img_to_array\n",
    "from tensorflow.keras.utils import to_categorical\n",
    "from tensorflow.keras.models import Sequential\n",
    "from tensorflow.keras.layers import Conv2D, MaxPooling2D, Flatten, Dense,Dropout,BatchNormalization, GlobalAveragePooling2D\n",
    "from tensorflow.keras.losses import categorical_crossentropy\n",
    "from tensorflow.keras.optimizers import Adam\n",
    "\n",
    "weights_2 = [ 0.7005531, 0.24592265, 0.95261733, 3.64804147, 1.20674543, 13.19375, 12.56547619, 5.04219745]\n",
    "w2 = [round(w,4) for w in weights_2]\n",
    "weights_2 = dict(enumerate(w2))\n",
    "print(weights_2)"
   ]
  },
  {
   "cell_type": "markdown",
   "id": "87dc18ef",
   "metadata": {},
   "source": [
    "Model selection and training\n",
    "---"
   ]
  },
  {
   "cell_type": "code",
   "execution_count": 7,
   "id": "f9b9116d",
   "metadata": {},
   "outputs": [
    {
     "name": "stdout",
     "output_type": "stream",
     "text": [
      "Model: \"sequential\"\n",
      "_________________________________________________________________\n",
      " Layer (type)                Output Shape              Param #   \n",
      "=================================================================\n",
      " efficientnetv2-m (Function  (None, 10, 10, 1280)      53150388  \n",
      " al)                                                             \n",
      "                                                                 \n",
      " global_average_pooling2d (  (None, 1280)              0         \n",
      " GlobalAveragePooling2D)                                         \n",
      "                                                                 \n",
      " dense (Dense)               (None, 8)                 10248     \n",
      "                                                                 \n",
      "=================================================================\n",
      "Total params: 53160636 (202.79 MB)\n",
      "Trainable params: 52868604 (201.68 MB)\n",
      "Non-trainable params: 292032 (1.11 MB)\n",
      "_________________________________________________________________\n"
     ]
    }
   ],
   "source": [
    "from tensorflow.keras.applications import InceptionV3, Xception, ResNet50V2, EfficientNetV2M, EfficientNetB5\n",
    "\n",
    "base_model = EfficientNetV2M(include_top=False, weights='imagenet', input_shape=(300, 300, 3), include_preprocessing=True)\n",
    "\n",
    "model_t = Sequential([\n",
    "    base_model,\n",
    "    GlobalAveragePooling2D(),\n",
    "    Dense(num_classes, activation='softmax')\n",
    "])\n",
    "model_t.summary()"
   ]
  },
  {
   "cell_type": "code",
   "execution_count": 8,
   "id": "7a682b58",
   "metadata": {},
   "outputs": [],
   "source": [
    "lr_schedule =tf.keras.optimizers.schedules.ExponentialDecay(\n",
    "    initial_learning_rate=0.00005,\n",
    "    decay_steps=10000,\n",
    "    decay_rate=0.9)\n",
    "\n",
    "optimizer = tf.keras.optimizers.Adam(learning_rate=0.00005)\n",
    "\n",
    "loss = \"categorical_crossentropy\"\n",
    "metrics=[ \"accuracy\"]\n",
    "model_t.compile(optimizer = optimizer , loss = loss, metrics = metrics)"
   ]
  },
  {
   "cell_type": "code",
   "execution_count": 9,
   "id": "b097c2c0",
   "metadata": {},
   "outputs": [],
   "source": [
    "from tensorflow.keras.callbacks import EarlyStopping, ModelCheckpoint\n",
    "earlystop = EarlyStopping(monitor=\"val_accuracy\",patience=10, restore_best_weights=True)"
   ]
  },
  {
   "cell_type": "code",
   "execution_count": null,
   "id": "d0000fb0",
   "metadata": {},
   "outputs": [
    {
     "name": "stdout",
     "output_type": "stream",
     "text": [
      "Epoch 1/25\n"
     ]
    },
    {
     "name": "stderr",
     "output_type": "stream",
     "text": [
      "2024-05-05 14:42:34.773941: E tensorflow/core/grappler/optimizers/meta_optimizer.cc:961] layout failed: INVALID_ARGUMENT: Size of values 0 does not match size of permutation 4 @ fanin shape insequential/efficientnetv2-m/block1b_drop/dropout/SelectV2-2-TransposeNHWCToNCHW-LayoutOptimizer\n",
      "2024-05-05 14:42:42.243234: I external/local_xla/xla/stream_executor/cuda/cuda_dnn.cc:454] Loaded cuDNN version 8907\n",
      "2024-05-05 14:42:42.776107: I external/local_tsl/tsl/platform/default/subprocess.cc:304] Start cannot spawn child process: No such file or directory\n",
      "2024-05-05 14:42:43.333795: I external/local_tsl/tsl/platform/default/subprocess.cc:304] Start cannot spawn child process: No such file or directory\n",
      "2024-05-05 14:42:44.707263: I external/local_xla/xla/service/service.cc:168] XLA service 0x7f543832ce80 initialized for platform CUDA (this does not guarantee that XLA will be used). Devices:\n",
      "2024-05-05 14:42:44.707312: I external/local_xla/xla/service/service.cc:176]   StreamExecutor device (0): Tesla V100S-PCIE-32GB, Compute Capability 7.0\n",
      "2024-05-05 14:42:44.724507: I tensorflow/compiler/mlir/tensorflow/utils/dump_mlir_util.cc:269] disabling MLIR crash reproducer, set env var `MLIR_CRASH_REPRODUCER_DIRECTORY` to enable.\n",
      "WARNING: All log messages before absl::InitializeLog() is called are written to STDERR\n",
      "I0000 00:00:1714912964.883452  472493 device_compiler.h:186] Compiled cluster using XLA!  This line is logged at most once for the lifetime of the process.\n"
     ]
    },
    {
     "name": "stdout",
     "output_type": "stream",
     "text": [
      "1009/1009 [==============================] - 590s 479ms/step - loss: 1.4671 - accuracy: 0.4956 - val_loss: 1.2646 - val_accuracy: 0.5456\n",
      "Epoch 2/25\n",
      "1009/1009 [==============================] - 466s 462ms/step - loss: 1.0261 - accuracy: 0.6122 - val_loss: 1.3060 - val_accuracy: 0.5432\n",
      "Epoch 3/25\n",
      "1009/1009 [==============================] - 352s 349ms/step - loss: 0.8398 - accuracy: 0.6562 - val_loss: 1.0747 - val_accuracy: 0.6341\n",
      "Epoch 4/25\n",
      "1009/1009 [==============================] - 340s 336ms/step - loss: 0.7277 - accuracy: 0.6877 - val_loss: 1.0905 - val_accuracy: 0.6180\n",
      "Epoch 5/25\n",
      "1009/1009 [==============================] - 310s 307ms/step - loss: 0.6251 - accuracy: 0.7183 - val_loss: 1.1402 - val_accuracy: 0.5945\n",
      "Epoch 6/25\n",
      "1009/1009 [==============================] - 327s 324ms/step - loss: 0.5465 - accuracy: 0.7433 - val_loss: 0.9942 - val_accuracy: 0.6552\n",
      "Epoch 7/25\n",
      "1009/1009 [==============================] - 304s 301ms/step - loss: 0.4628 - accuracy: 0.7718 - val_loss: 1.0848 - val_accuracy: 0.6503\n",
      "Epoch 8/25\n",
      "1009/1009 [==============================] - 300s 297ms/step - loss: 0.4183 - accuracy: 0.7834 - val_loss: 1.0080 - val_accuracy: 0.6671\n",
      "Epoch 9/25\n",
      "1009/1009 [==============================] - 703s 697ms/step - loss: 0.3688 - accuracy: 0.8004 - val_loss: 1.1125 - val_accuracy: 0.6721\n",
      "Epoch 10/25\n",
      "1009/1009 [==============================] - 753s 746ms/step - loss: 0.3528 - accuracy: 0.8100 - val_loss: 1.0903 - val_accuracy: 0.6808\n",
      "Epoch 11/25\n",
      "1009/1009 [==============================] - 756s 749ms/step - loss: 0.3017 - accuracy: 0.8292 - val_loss: 1.0328 - val_accuracy: 0.6935\n",
      "Epoch 12/25\n",
      "1009/1009 [==============================] - 900s 891ms/step - loss: 0.3099 - accuracy: 0.8346 - val_loss: 1.1149 - val_accuracy: 0.6552\n",
      "Epoch 13/25\n",
      "1009/1009 [==============================] - 837s 829ms/step - loss: 0.2572 - accuracy: 0.8481 - val_loss: 1.0873 - val_accuracy: 0.6801\n",
      "Epoch 14/25\n",
      "1009/1009 [==============================] - 625s 619ms/step - loss: 0.2372 - accuracy: 0.8551 - val_loss: 1.2275 - val_accuracy: 0.6570\n",
      "Epoch 15/25\n",
      "1009/1009 [==============================] - 623s 617ms/step - loss: 0.2204 - accuracy: 0.8720 - val_loss: 1.2303 - val_accuracy: 0.6376\n",
      "Epoch 16/25\n",
      "1009/1009 [==============================] - 378s 374ms/step - loss: 0.2015 - accuracy: 0.8780 - val_loss: 1.3698 - val_accuracy: 0.6584\n",
      "Epoch 17/25\n",
      "1009/1009 [==============================] - 325s 322ms/step - loss: 0.1897 - accuracy: 0.8849 - val_loss: 1.2051 - val_accuracy: 0.6622\n",
      "Epoch 18/25\n",
      "1009/1009 [==============================] - 298s 295ms/step - loss: 0.1880 - accuracy: 0.8805 - val_loss: 1.2513 - val_accuracy: 0.6661\n",
      "Epoch 19/25\n",
      "1009/1009 [==============================] - 365s 361ms/step - loss: 0.1535 - accuracy: 0.8996 - val_loss: 1.3303 - val_accuracy: 0.6735\n",
      "Epoch 20/25\n",
      "1009/1009 [==============================] - 339s 335ms/step - loss: 0.1910 - accuracy: 0.8843 - val_loss: 1.3706 - val_accuracy: 0.6601\n",
      "Epoch 21/25\n",
      " 254/1009 [======>.......................] - ETA: 3:50 - loss: 0.1505 - accuracy: 0.9026"
     ]
    }
   ],
   "source": [
    "STEP_SIZE_TRAIN=train_generator.n//train_generator.batch_size\n",
    "STEP_SIZE_VALID=valid_generator.n//valid_generator.batch_size\n",
    "\n",
    "model_t.fit(train_generator,\n",
    "            steps_per_epoch=STEP_SIZE_TRAIN,\n",
    "            callbacks = [earlystop],\n",
    "            class_weight = weights_2,\n",
    "            validation_data=valid_generator,\n",
    "            validation_steps=STEP_SIZE_VALID,\n",
    "            epochs=25)"
   ]
  },
  {
   "cell_type": "code",
   "execution_count": null,
   "id": "fb10dae7",
   "metadata": {},
   "outputs": [],
   "source": [
    "model_t.evaluate(valid_generator)"
   ]
  },
  {
   "cell_type": "markdown",
   "id": "07edcb11",
   "metadata": {},
   "source": [
    "Predictions\n",
    "---"
   ]
  },
  {
   "cell_type": "code",
   "execution_count": 11,
   "id": "9d589fd0",
   "metadata": {
    "execution": {
     "iopub.execute_input": "2024-04-27T21:19:09.543057Z",
     "iopub.status.busy": "2024-04-27T21:19:09.542122Z",
     "iopub.status.idle": "2024-04-27T21:19:09.565766Z",
     "shell.execute_reply": "2024-04-27T21:19:09.564872Z",
     "shell.execute_reply.started": "2024-04-27T21:19:09.543015Z"
    }
   },
   "outputs": [
    {
     "data": {
      "text/html": [
       "<div>\n",
       "<style scoped>\n",
       "    .dataframe tbody tr th:only-of-type {\n",
       "        vertical-align: middle;\n",
       "    }\n",
       "\n",
       "    .dataframe tbody tr th {\n",
       "        vertical-align: top;\n",
       "    }\n",
       "\n",
       "    .dataframe thead th {\n",
       "        text-align: right;\n",
       "    }\n",
       "</style>\n",
       "<table border=\"1\" class=\"dataframe\">\n",
       "  <thead>\n",
       "    <tr style=\"text-align: right;\">\n",
       "      <th></th>\n",
       "      <th>ID</th>\n",
       "      <th>CLASS</th>\n",
       "    </tr>\n",
       "  </thead>\n",
       "  <tbody>\n",
       "    <tr>\n",
       "      <th>0</th>\n",
       "      <td>ISIC_0070035.jpg</td>\n",
       "      <td>2</td>\n",
       "    </tr>\n",
       "    <tr>\n",
       "      <th>1</th>\n",
       "      <td>ISIC_0030667.jpg</td>\n",
       "      <td>2</td>\n",
       "    </tr>\n",
       "    <tr>\n",
       "      <th>2</th>\n",
       "      <td>ISIC_0033772.jpg</td>\n",
       "      <td>8</td>\n",
       "    </tr>\n",
       "    <tr>\n",
       "      <th>3</th>\n",
       "      <td>ISIC_0000182.jpg</td>\n",
       "      <td>2</td>\n",
       "    </tr>\n",
       "    <tr>\n",
       "      <th>4</th>\n",
       "      <td>ISIC_0030206.jpg</td>\n",
       "      <td>2</td>\n",
       "    </tr>\n",
       "    <tr>\n",
       "      <th>...</th>\n",
       "      <td>...</td>\n",
       "      <td>...</td>\n",
       "    </tr>\n",
       "    <tr>\n",
       "      <th>6328</th>\n",
       "      <td>ISIC_0028453.jpg</td>\n",
       "      <td>6</td>\n",
       "    </tr>\n",
       "    <tr>\n",
       "      <th>6329</th>\n",
       "      <td>ISIC_0024846.jpg</td>\n",
       "      <td>2</td>\n",
       "    </tr>\n",
       "    <tr>\n",
       "      <th>6330</th>\n",
       "      <td>ISIC_0055816.jpg</td>\n",
       "      <td>2</td>\n",
       "    </tr>\n",
       "    <tr>\n",
       "      <th>6331</th>\n",
       "      <td>ISIC_0034166.jpg</td>\n",
       "      <td>2</td>\n",
       "    </tr>\n",
       "    <tr>\n",
       "      <th>6332</th>\n",
       "      <td>ISIC_0031638.jpg</td>\n",
       "      <td>2</td>\n",
       "    </tr>\n",
       "  </tbody>\n",
       "</table>\n",
       "<p>6333 rows × 2 columns</p>\n",
       "</div>"
      ],
      "text/plain": [
       "                    ID CLASS\n",
       "0     ISIC_0070035.jpg     2\n",
       "1     ISIC_0030667.jpg     2\n",
       "2     ISIC_0033772.jpg     8\n",
       "3     ISIC_0000182.jpg     2\n",
       "4     ISIC_0030206.jpg     2\n",
       "...                ...   ...\n",
       "6328  ISIC_0028453.jpg     6\n",
       "6329  ISIC_0024846.jpg     2\n",
       "6330  ISIC_0055816.jpg     2\n",
       "6331  ISIC_0034166.jpg     2\n",
       "6332  ISIC_0031638.jpg     2\n",
       "\n",
       "[6333 rows x 2 columns]"
      ]
     },
     "execution_count": 11,
     "metadata": {},
     "output_type": "execute_result"
    }
   ],
   "source": [
    "testdf=pd.read_csv(\"submissions/sample_submission.csv\",dtype=str)\n",
    "testdf[\"ID\"]=testdf[\"ID\"].apply(append_ext)\n",
    "testdf"
   ]
  },
  {
   "cell_type": "code",
   "execution_count": 12,
   "id": "340def7a",
   "metadata": {
    "execution": {
     "iopub.execute_input": "2024-04-27T21:19:10.900457Z",
     "iopub.status.busy": "2024-04-27T21:19:10.899598Z",
     "iopub.status.idle": "2024-04-27T21:19:19.713229Z",
     "shell.execute_reply": "2024-04-27T21:19:19.712464Z",
     "shell.execute_reply.started": "2024-04-27T21:19:10.900424Z"
    }
   },
   "outputs": [
    {
     "name": "stdout",
     "output_type": "stream",
     "text": [
      "Found 6333 validated image filenames.\n"
     ]
    }
   ],
   "source": [
    "test_datagen=ImageDataGenerator()\n",
    "test_generator=test_datagen.flow_from_dataframe(\n",
    "    dataframe=testdf,\n",
    "    directory=\"Test\",\n",
    "    x_col=\"ID\",\n",
    "    y_col=None,\n",
    "    batch_size=3, #must be a divisor of 6333\n",
    "    seed=42,\n",
    "    shuffle=False,\n",
    "    class_mode=None,\n",
    "    target_size=(300,300))"
   ]
  },
  {
   "cell_type": "code",
   "execution_count": 13,
   "id": "dea2604a",
   "metadata": {
    "execution": {
     "iopub.execute_input": "2024-04-27T21:19:19.715720Z",
     "iopub.status.busy": "2024-04-27T21:19:19.715083Z",
     "iopub.status.idle": "2024-04-27T21:20:37.744694Z",
     "shell.execute_reply": "2024-04-27T21:20:37.743855Z",
     "shell.execute_reply.started": "2024-04-27T21:19:19.715677Z"
    }
   },
   "outputs": [
    {
     "name": "stdout",
     "output_type": "stream",
     "text": [
      " 184/2111 [=>............................] - ETA: 45s"
     ]
    },
    {
     "name": "stdout",
     "output_type": "stream",
     "text": [
      "2111/2111 [==============================] - 51s 22ms/step\n"
     ]
    }
   ],
   "source": [
    "test_generator.reset()\n",
    "STEP_SIZE_TEST=test_generator.n//test_generator.batch_size\n",
    "pred=model_t.predict(test_generator,\n",
    "                     steps=STEP_SIZE_TEST,\n",
    "                     verbose=1)"
   ]
  },
  {
   "cell_type": "code",
   "execution_count": 14,
   "id": "f30429bf",
   "metadata": {
    "execution": {
     "iopub.execute_input": "2024-04-27T21:20:37.746408Z",
     "iopub.status.busy": "2024-04-27T21:20:37.746084Z",
     "iopub.status.idle": "2024-04-27T21:20:37.754113Z",
     "shell.execute_reply": "2024-04-27T21:20:37.753197Z",
     "shell.execute_reply.started": "2024-04-27T21:20:37.746381Z"
    }
   },
   "outputs": [],
   "source": [
    "predicted_class_indices=np.argmax(pred,axis=1)\n",
    "labels = (train_generator.class_indices)\n",
    "labels = dict((v,k) for k,v in labels.items())\n",
    "predictions = [labels[k] for k in predicted_class_indices]"
   ]
  },
  {
   "cell_type": "code",
   "execution_count": 15,
   "id": "260a36ed",
   "metadata": {
    "execution": {
     "iopub.execute_input": "2024-04-27T21:20:37.756749Z",
     "iopub.status.busy": "2024-04-27T21:20:37.756304Z",
     "iopub.status.idle": "2024-04-27T21:20:37.774999Z",
     "shell.execute_reply": "2024-04-27T21:20:37.774161Z",
     "shell.execute_reply.started": "2024-04-27T21:20:37.756713Z"
    }
   },
   "outputs": [
    {
     "data": {
      "text/html": [
       "<div>\n",
       "<style scoped>\n",
       "    .dataframe tbody tr th:only-of-type {\n",
       "        vertical-align: middle;\n",
       "    }\n",
       "\n",
       "    .dataframe tbody tr th {\n",
       "        vertical-align: top;\n",
       "    }\n",
       "\n",
       "    .dataframe thead th {\n",
       "        text-align: right;\n",
       "    }\n",
       "</style>\n",
       "<table border=\"1\" class=\"dataframe\">\n",
       "  <thead>\n",
       "    <tr style=\"text-align: right;\">\n",
       "      <th></th>\n",
       "      <th>ID</th>\n",
       "      <th>CLASS</th>\n",
       "    </tr>\n",
       "  </thead>\n",
       "  <tbody>\n",
       "    <tr>\n",
       "      <th>0</th>\n",
       "      <td>ISIC_0070035</td>\n",
       "      <td>8</td>\n",
       "    </tr>\n",
       "    <tr>\n",
       "      <th>1</th>\n",
       "      <td>ISIC_0030667</td>\n",
       "      <td>2</td>\n",
       "    </tr>\n",
       "    <tr>\n",
       "      <th>2</th>\n",
       "      <td>ISIC_0033772</td>\n",
       "      <td>2</td>\n",
       "    </tr>\n",
       "    <tr>\n",
       "      <th>3</th>\n",
       "      <td>ISIC_0000182</td>\n",
       "      <td>2</td>\n",
       "    </tr>\n",
       "    <tr>\n",
       "      <th>4</th>\n",
       "      <td>ISIC_0030206</td>\n",
       "      <td>2</td>\n",
       "    </tr>\n",
       "    <tr>\n",
       "      <th>...</th>\n",
       "      <td>...</td>\n",
       "      <td>...</td>\n",
       "    </tr>\n",
       "    <tr>\n",
       "      <th>6328</th>\n",
       "      <td>ISIC_0028453</td>\n",
       "      <td>7</td>\n",
       "    </tr>\n",
       "    <tr>\n",
       "      <th>6329</th>\n",
       "      <td>ISIC_0024846</td>\n",
       "      <td>1</td>\n",
       "    </tr>\n",
       "    <tr>\n",
       "      <th>6330</th>\n",
       "      <td>ISIC_0055816</td>\n",
       "      <td>1</td>\n",
       "    </tr>\n",
       "    <tr>\n",
       "      <th>6331</th>\n",
       "      <td>ISIC_0034166</td>\n",
       "      <td>2</td>\n",
       "    </tr>\n",
       "    <tr>\n",
       "      <th>6332</th>\n",
       "      <td>ISIC_0031638</td>\n",
       "      <td>2</td>\n",
       "    </tr>\n",
       "  </tbody>\n",
       "</table>\n",
       "<p>6333 rows × 2 columns</p>\n",
       "</div>"
      ],
      "text/plain": [
       "                ID CLASS\n",
       "0     ISIC_0070035     8\n",
       "1     ISIC_0030667     2\n",
       "2     ISIC_0033772     2\n",
       "3     ISIC_0000182     2\n",
       "4     ISIC_0030206     2\n",
       "...            ...   ...\n",
       "6328  ISIC_0028453     7\n",
       "6329  ISIC_0024846     1\n",
       "6330  ISIC_0055816     1\n",
       "6331  ISIC_0034166     2\n",
       "6332  ISIC_0031638     2\n",
       "\n",
       "[6333 rows x 2 columns]"
      ]
     },
     "execution_count": 15,
     "metadata": {},
     "output_type": "execute_result"
    }
   ],
   "source": [
    "filenames=test_generator.filenames\n",
    "filenames = [fil.split('.')[0] for fil in filenames]\n",
    "results=pd.DataFrame({\"ID\":filenames,\n",
    "                      \"CLASS\":predictions})\n",
    "results"
   ]
  },
  {
   "cell_type": "code",
   "execution_count": 16,
   "id": "d520da27",
   "metadata": {
    "execution": {
     "iopub.execute_input": "2024-04-27T21:20:37.776209Z",
     "iopub.status.busy": "2024-04-27T21:20:37.775969Z",
     "iopub.status.idle": "2024-04-27T21:20:37.792737Z",
     "shell.execute_reply": "2024-04-27T21:20:37.791933Z",
     "shell.execute_reply.started": "2024-04-27T21:20:37.776187Z"
    }
   },
   "outputs": [],
   "source": [
    "results.to_csv(\"submission_augm_3.csv\",index=False)"
   ]
  },
  {
   "cell_type": "markdown",
   "id": "b564d059-a7c3-414d-8913-553cc31903ec",
   "metadata": {},
   "source": [
    "Postprocessing - Majority voting\n",
    "---"
   ]
  },
  {
   "cell_type": "code",
   "execution_count": null,
   "id": "0dc2d9cc-dcba-4a85-806d-78b06a7bfbdb",
   "metadata": {},
   "outputs": [],
   "source": [
    "def calculate_mode(x):\n",
    "    return Counter(x).most_common(1)[0][0]\n",
    "\n",
    "folder_path = 'submissions'\n",
    "\n",
    "csv_files = [os.path.join(folder_path, file) for file in os.listdir(folder_path) if file.endswith('.csv')]\n",
    "dfs = [pd.read_csv(file) for file in csv_files]\n",
    "merged_df = pd.concat(dfs).groupby('ID')['CLASS'].apply(calculate_mode).reset_index()\n",
    "\n",
    "merged_df.to_csv('merged_file.csv', index=False)"
   ]
  }
 ],
 "metadata": {
  "kaggle": {
   "accelerator": "gpu",
   "dataSources": [
    {
     "databundleVersionId": 7803547,
     "sourceId": 70775,
     "sourceType": "competition"
    }
   ],
   "dockerImageVersionId": 30698,
   "isGpuEnabled": true,
   "isInternetEnabled": true,
   "language": "python",
   "sourceType": "notebook"
  },
  "kernelspec": {
   "display_name": "Python 3 (ipykernel)",
   "language": "python",
   "name": "python3"
  },
  "language_info": {
   "codemirror_mode": {
    "name": "ipython",
    "version": 3
   },
   "file_extension": ".py",
   "mimetype": "text/x-python",
   "name": "python",
   "nbconvert_exporter": "python",
   "pygments_lexer": "ipython3",
   "version": "3.10.12"
  }
 },
 "nbformat": 4,
 "nbformat_minor": 5
}
